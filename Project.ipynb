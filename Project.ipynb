{
  "cells": [
    {
      "cell_type": "code",
      "execution_count": 1,
      "metadata": {
        "id": "hURZF6Ft0uQN"
      },
      "outputs": [],
      "source": [
        "!apt-get install openjdk-8-jdk-headless -qq > /dev/null\n",
        "!wget -q http://archive.apache.org/dist/spark/spark-3.1.1/spark-3.1.1-bin-hadoop3.2.tgz\n",
        "!tar xf spark-3.1.1-bin-hadoop3.2.tgz\n",
        "!pip install -q findspark\n",
        "\n",
        "import os\n",
        "os.environ[\"JAVA_HOME\"] = \"/usr/lib/jvm/java-8-openjdk-amd64\"\n",
        "os.environ[\"SPARK_HOME\"] = \"/content/spark-3.1.1-bin-hadoop3.2\""
      ]
    },
    {
      "cell_type": "code",
      "execution_count": 83,
      "metadata": {
        "id": "5pk6GXwdPg-y"
      },
      "outputs": [],
      "source": [
        "import findspark\n",
        "findspark.init()"
      ]
    },
    {
      "cell_type": "code",
      "execution_count": 84,
      "metadata": {
        "id": "XYr8hFzhPlxz"
      },
      "outputs": [],
      "source": [
        "#Creating Session\n",
        "from pyspark.sql import SparkSession\n",
        "spark = SparkSession.builder.appName(\"PySpark\").getOrCreate()"
      ]
    },
    {
      "cell_type": "code",
      "execution_count": 85,
      "metadata": {
        "id": "43iH4pVxCN7B",
        "colab": {
          "base_uri": "https://localhost:8080/"
        },
        "outputId": "8bc38346-8753-4d07-9182-b70eb34d211c"
      },
      "outputs": [
        {
          "output_type": "stream",
          "name": "stdout",
          "text": [
            "Drive already mounted at /content/drive; to attempt to forcibly remount, call drive.mount(\"/content/drive\", force_remount=True).\n"
          ]
        }
      ],
      "source": [
        "from google.colab import drive\n",
        "drive.mount('/content/drive')"
      ]
    },
    {
      "cell_type": "code",
      "execution_count": 86,
      "metadata": {
        "id": "s7bJgm23nIze",
        "colab": {
          "base_uri": "https://localhost:8080/"
        },
        "outputId": "ec13de5d-feda-40f2-f8f8-62a0d8351665"
      },
      "outputs": [
        {
          "output_type": "stream",
          "name": "stdout",
          "text": [
            "+---------+----------------+---------------+--------------------+------+---------------+-------------+------------------+------------+----------------+------------+\n",
            "|work_year|experience_level|employment_type|           job_title|salary|salary_currency|salary_in_usd|employee_residence|remote_ratio|company_location|company_size|\n",
            "+---------+----------------+---------------+--------------------+------+---------------+-------------+------------------+------------+----------------+------------+\n",
            "|     2023|              EX|             FT|Information Secur...|160000|            USD|       160000|                US|         100|              US|           M|\n",
            "|     2023|              EX|             FT|Information Secur...|100000|            USD|       100000|                US|         100|              US|           M|\n",
            "|     2023|              SE|             FT|   Security Engineer|247250|            USD|       247250|                US|           0|              US|           M|\n",
            "|     2023|              SE|             FT|   Security Engineer|160000|            USD|       160000|                US|           0|              US|           M|\n",
            "|     2023|              SE|             FT|   Security Engineer|224250|            USD|       224250|                US|           0|              US|           M|\n",
            "+---------+----------------+---------------+--------------------+------+---------------+-------------+------------------+------------+----------------+------------+\n",
            "only showing top 5 rows\n",
            "\n"
          ]
        }
      ],
      "source": [
        "from pyspark.sql import SparkSession\n",
        "spark = SparkSession.builder.appName(\"cybersecurity_salary_prediction\").getOrCreate()\n",
        "data = spark.read.csv(\"/content/drive/MyDrive/9th Semester/Big Data/Project/salaries.csv\", header=True, inferSchema=True)\n",
        "data.show(5)"
      ]
    },
    {
      "cell_type": "markdown",
      "metadata": {
        "id": "N2MUszyowci0"
      },
      "source": [
        "Getting Column Names"
      ]
    },
    {
      "cell_type": "code",
      "execution_count": 87,
      "metadata": {
        "id": "XpG9eQsmoer_",
        "colab": {
          "base_uri": "https://localhost:8080/"
        },
        "outputId": "21e9742a-22f2-43f9-c1db-d2c343357e85"
      },
      "outputs": [
        {
          "output_type": "execute_result",
          "data": {
            "text/plain": [
              "['work_year',\n",
              " 'experience_level',\n",
              " 'employment_type',\n",
              " 'job_title',\n",
              " 'salary',\n",
              " 'salary_currency',\n",
              " 'salary_in_usd',\n",
              " 'employee_residence',\n",
              " 'remote_ratio',\n",
              " 'company_location',\n",
              " 'company_size']"
            ]
          },
          "metadata": {},
          "execution_count": 87
        }
      ],
      "source": [
        "colNames = data.columns\n",
        "colNames"
      ]
    },
    {
      "cell_type": "code",
      "source": [
        "from pyspark.sql.functions import col, when, count, isnull\n",
        "# Checking for missing values\n",
        "data.select([count(when(isnull(c), c)).alias(c) for c in data.columns]).show()"
      ],
      "metadata": {
        "colab": {
          "base_uri": "https://localhost:8080/"
        },
        "id": "4sCKt42VTwrk",
        "outputId": "f63e7a3d-8087-4003-fff5-3472b2f9923f"
      },
      "execution_count": 94,
      "outputs": [
        {
          "output_type": "stream",
          "name": "stdout",
          "text": [
            "+---------+----------------+---------------+---------+------+---------------+-------------+------------------+------------+----------------+------------+\n",
            "|work_year|experience_level|employment_type|job_title|salary|salary_currency|salary_in_usd|employee_residence|remote_ratio|company_location|company_size|\n",
            "+---------+----------------+---------------+---------+------+---------------+-------------+------------------+------------+----------------+------------+\n",
            "|        0|               0|              0|        0|     0|              0|            0|                 0|           0|               0|           0|\n",
            "+---------+----------------+---------------+---------+------+---------------+-------------+------------------+------------+----------------+------------+\n",
            "\n"
          ]
        }
      ]
    },
    {
      "cell_type": "markdown",
      "metadata": {
        "id": "0Aqj9QtEpIRf"
      },
      "source": [
        "Aggregation Operations"
      ]
    },
    {
      "cell_type": "code",
      "execution_count": 88,
      "metadata": {
        "id": "Ep3-rYNupIy_",
        "colab": {
          "base_uri": "https://localhost:8080/"
        },
        "outputId": "21c58e88-a644-4f49-cecd-e8e6c1107370"
      },
      "outputs": [
        {
          "output_type": "stream",
          "name": "stdout",
          "text": [
            "145772.43101532993 656121712 456621\n"
          ]
        }
      ],
      "source": [
        "from pyspark.sql.functions import avg, sum, max\n",
        "avg_res = data.select(avg(\"salary_in_usd\")).first()[0]\n",
        "sum_res = data.select(sum(\"salary_in_usd\")).first()[0]\n",
        "max_res = data.select(max(\"salary_in_usd\")).first()[0]\n",
        "print(avg_res, sum_res, max_res)"
      ]
    },
    {
      "cell_type": "markdown",
      "metadata": {
        "id": "eO652UZ0yTXh"
      },
      "source": [
        "Sorting By a Column"
      ]
    },
    {
      "cell_type": "code",
      "execution_count": 14,
      "metadata": {
        "id": "NCLqe1omyYOi",
        "colab": {
          "base_uri": "https://localhost:8080/"
        },
        "outputId": "28cb1ff7-18ec-4abf-ca89-6590a7b88bef"
      },
      "outputs": [
        {
          "output_type": "stream",
          "name": "stdout",
          "text": [
            "+---------+----------------+---------------+--------------------+-------+---------------+-------------+------------------+------------+----------------+------------+\n",
            "|work_year|experience_level|employment_type|           job_title| salary|salary_currency|salary_in_usd|employee_residence|remote_ratio|company_location|company_size|\n",
            "+---------+----------------+---------------+--------------------+-------+---------------+-------------+------------------+------------+----------------+------------+\n",
            "|     2022|              MI|             FT| Security Consultant|1250000|            INR|        15897|                IN|           0|              IN|           L|\n",
            "|     2021|              EN|             FT|Application Secur...|1200000|            INR|        16228|                IN|           0|              IN|           L|\n",
            "|     2023|              EN|             PT|Cloud Cyber Secur...| 300000|            ZAR|        16498|                ZA|          50|              ZA|           L|\n",
            "|     2022|              EN|             PT|  Penetration Tester|  16400|            EUR|        17230|                DE|          50|              DE|           L|\n",
            "|     2022|              MI|             FT|Security Operatio...|1400000|            INR|        17805|                IN|         100|              IN|           L|\n",
            "|     2022|              MI|             FT|Application Secur...|  18000|            USD|        18000|                IN|          50|              IN|           L|\n",
            "|     2023|              EN|             FT|Cyber Security An...|  16800|            EUR|        18138|                PT|          50|              PT|           L|\n",
            "|     2023|              MI|             FT|Information Secur...|  25000|            SGD|        18720|                MY|           0|              MY|           M|\n",
            "|     2022|              SE|             FT|Cyber Security En...|1500000|            INR|        19077|                IN|           0|              IN|           S|\n",
            "|     2021|              EN|             FT|IT Security Engineer|  16800|            EUR|        19858|                GR|          50|              GR|           M|\n",
            "|     2022|              SE|             FT|Security Engineer...|  20000|            USD|        20000|                PK|           0|              PK|           L|\n",
            "|     2021|              MI|             FT|    Security Analyst|  20000|            USD|        20000|                IN|         100|              US|           L|\n",
            "|     2022|              MI|             FT|Cyber Security An...|  20100|            USD|        20100|                CR|         100|              US|           L|\n",
            "|     2021|              MI|             FT|Cyber Security Re...|1500000|            INR|        20285|                IN|           0|              IN|           M|\n",
            "|     2022|              SE|             FT|Information Secur...|1600000|            INR|        20349|                IN|           0|              BR|           L|\n",
            "|     2022|              SE|             FT|Information Secur...|  20000|            EUR|        21013|                HR|          50|              HR|           M|\n",
            "|     2022|              EN|             PT| Security Consultant|  20000|            EUR|        21013|                DE|         100|              DE|           M|\n",
            "|     2020|              MI|             FT|Cyber Security An...| 350000|            ZAR|        21283|                ZA|          50|              ZA|           L|\n",
            "|     2021|              MI|             FT|Application Secur...|1600000|            INR|        21637|                IN|           0|              IN|           L|\n",
            "|     2022|              SE|             FT|    Security Analyst| 467000|            MXN|        23218|                MX|         100|              MX|           L|\n",
            "+---------+----------------+---------------+--------------------+-------+---------------+-------------+------------------+------------+----------------+------------+\n",
            "only showing top 20 rows\n",
            "\n"
          ]
        }
      ],
      "source": [
        "sorted_by_rooms = data.orderBy(\"salary_in_usd\")\n",
        "sorted_by_rooms.show()"
      ]
    },
    {
      "cell_type": "markdown",
      "metadata": {
        "id": "qPm2FgNvynny"
      },
      "source": [
        "Statistical Opeartions"
      ]
    },
    {
      "cell_type": "code",
      "execution_count": 18,
      "metadata": {
        "id": "3A8k5a7jyofq",
        "colab": {
          "base_uri": "https://localhost:8080/"
        },
        "outputId": "f94ffede-5835-41a7-a850-572308b57cb2"
      },
      "outputs": [
        {
          "output_type": "stream",
          "name": "stdout",
          "text": [
            "137331.99548241368 64924.26332277094\n"
          ]
        }
      ],
      "source": [
        "from pyspark.sql.functions import mean, stddev\n",
        "mean_res = data.select(mean(\"salary_in_usd\")).first()[0]\n",
        "std_res = data.select(stddev(\"salary_in_usd\")).first()[0]\n",
        "print(mean_res, std_res)"
      ]
    },
    {
      "cell_type": "code",
      "execution_count": 89,
      "metadata": {
        "id": "aV36udrAlHXA",
        "colab": {
          "base_uri": "https://localhost:8080/"
        },
        "outputId": "9444aa53-d44f-4c66-dfb9-31a8cd2b234d"
      },
      "outputs": [
        {
          "output_type": "stream",
          "name": "stdout",
          "text": [
            "Total count of duplicate rows: 516\n",
            "Total count of duplicate rows: 0\n"
          ]
        }
      ],
      "source": [
        "from pyspark.sql import SparkSession\n",
        "from pyspark.sql.functions import col\n",
        "\n",
        "duplicate_rows = data.groupBy(data.columns).count().filter(col(\"count\") > 1)\n",
        "\n",
        "columns_to_check = [\"work_year\", \"experience_level\", \"employment_type\", \"job_title\", \"salary\", \"salary_currency\", \"salary_in_usd\", \"employee_residence\",\n",
        "                     \"remote_ratio\", \"company_location\", \"company_size\"]\n",
        "\n",
        "# Find duplicate rows based on all columns\n",
        "duplicate_count = data.groupBy(data.columns).count().filter(col(\"count\") > 1).count()\n",
        "\n",
        "# Show the total count of duplicate rows\n",
        "print(f\"Total count of duplicate rows: {duplicate_count}\")\n",
        "\n",
        "data_no_duplicates = data.dropDuplicates()\n",
        "\n",
        "duplicate_count = data_no_duplicates.groupBy(data.columns).count().filter(col(\"count\") > 1).count()\n",
        "\n",
        "# Show the total count of duplicate rows\n",
        "print(f\"Total count of duplicate rows: {duplicate_count}\")"
      ]
    },
    {
      "cell_type": "code",
      "execution_count": 20,
      "metadata": {
        "id": "gYME7dx6I48L"
      },
      "outputs": [],
      "source": [
        "data = data_no_duplicates"
      ]
    },
    {
      "cell_type": "code",
      "execution_count": 21,
      "metadata": {
        "id": "rogHmhSromNN",
        "colab": {
          "base_uri": "https://localhost:8080/"
        },
        "outputId": "56fdb8fa-8164-40b0-93e6-ad4635e625ce"
      },
      "outputs": [
        {
          "output_type": "stream",
          "name": "stdout",
          "text": [
            "+-------+------------------+----------------+---------------+--------------------+-----------------+---------------+------------------+------------------+------------------+----------------+------------+\n",
            "|summary|         work_year|experience_level|employment_type|           job_title|           salary|salary_currency|     salary_in_usd|employee_residence|      remote_ratio|company_location|company_size|\n",
            "+-------+------------------+----------------+---------------+--------------------+-----------------+---------------+------------------+------------------+------------------+----------------+------------+\n",
            "|  count|              3099|            3099|           3099|                3099|             3099|           3099|              3099|              3099|              3099|            3099|        3099|\n",
            "|   mean| 2022.247176508551|            null|           null|                null|320507.1936108422|           null|137331.99548241368|              null|54.469183607615356|            null|        null|\n",
            "| stddev|0.9098596991798863|            null|           null|                null|8983221.284979453|           null| 64924.26332277094|              null|47.264081683422006|            null|        null|\n",
            "|    min|              2020|              EN|             CT|Application Secur...|            16400|            AUD|             15897|                AE|                 0|              AE|           L|\n",
            "|    25%|              2022|            null|           null|                null|            90700|           null|             90000|              null|                 0|            null|        null|\n",
            "|    50%|              2023|            null|           null|                null|           130000|           null|            128000|              null|                50|            null|        null|\n",
            "|    75%|              2023|            null|           null|                null|           180000|           null|            175000|              null|               100|            null|        null|\n",
            "|    max|              2023|              SE|             PT|Zero Trust Architect|        500000000|            ZAR|            456621|                ZA|               100|              ZA|           S|\n",
            "+-------+------------------+----------------+---------------+--------------------+-----------------+---------------+------------------+------------------+------------------+----------------+------------+\n",
            "\n",
            "+-------+------------------+----------------+---------------+--------------------+-----------------+---------------+------------------+------------------+------------------+----------------+------------+\n",
            "|summary|         work_year|experience_level|employment_type|           job_title|           salary|salary_currency|     salary_in_usd|employee_residence|      remote_ratio|company_location|company_size|\n",
            "+-------+------------------+----------------+---------------+--------------------+-----------------+---------------+------------------+------------------+------------------+----------------+------------+\n",
            "|   mean| 2022.247176508551|            null|           null|                null|320507.1936108422|           null|137331.99548241368|              null|54.469183607615356|            null|        null|\n",
            "| stddev|0.9098596991798863|            null|           null|                null|8983221.284979453|           null| 64924.26332277094|              null|47.264081683422006|            null|        null|\n",
            "|    min|              2020|              EN|             CT|Application Secur...|            16400|            AUD|             15897|                AE|                 0|              AE|           L|\n",
            "|    25%|              2022|            null|           null|                null|            90700|           null|             90000|              null|                 0|            null|        null|\n",
            "|    50%|              2023|            null|           null|                null|           130000|           null|            128000|              null|                50|            null|        null|\n",
            "|    75%|              2023|            null|           null|                null|           180000|           null|            175000|              null|               100|            null|        null|\n",
            "|    max|              2023|              SE|             PT|Zero Trust Architect|        500000000|            ZAR|            456621|                ZA|               100|              ZA|           S|\n",
            "+-------+------------------+----------------+---------------+--------------------+-----------------+---------------+------------------+------------------+------------------+----------------+------------+\n",
            "\n"
          ]
        }
      ],
      "source": [
        "# Display descriptive statistics for numeric columns\n",
        "data_summary_numeric = data.summary()\n",
        "data_summary_numeric.show()\n",
        "\n",
        "# Display descriptive statistics for string columns\n",
        "data_summary_string = data.summary(\"mean\", \"stddev\", \"min\", \"25%\", \"50%\", \"75%\", \"max\")\n",
        "data_summary_string.show()"
      ]
    },
    {
      "cell_type": "markdown",
      "metadata": {
        "id": "4bHPCXJkKpKt"
      },
      "source": [
        "The ratio of work experience and salary"
      ]
    },
    {
      "cell_type": "code",
      "execution_count": 22,
      "metadata": {
        "id": "ivQz2SjeKaI6",
        "colab": {
          "base_uri": "https://localhost:8080/"
        },
        "outputId": "bca995c6-b620-4363-cea5-e2a9553e819e"
      },
      "outputs": [
        {
          "output_type": "stream",
          "name": "stdout",
          "text": [
            "+---------+-------------+----------------+\n",
            "|work_year|salary_in_usd|experience_level|\n",
            "+---------+-------------+----------------+\n",
            "|     2023|       340000|              EX|\n",
            "|     2023|       132000|              SE|\n",
            "|     2023|       130000|              SE|\n",
            "|     2023|        55878|              SE|\n",
            "|     2023|       247500|              MI|\n",
            "|     2023|       250000|              EX|\n",
            "|     2023|       150000|              SE|\n",
            "|     2023|       169036|              SE|\n",
            "|     2022|       250000|              SE|\n",
            "|     2022|       210000|              SE|\n",
            "+---------+-------------+----------------+\n",
            "only showing top 10 rows\n",
            "\n"
          ]
        }
      ],
      "source": [
        "# Select specific columns\n",
        "data_sub = data.select(\"work_year\", \"salary_in_usd\", \"experience_level\")\n",
        "\n",
        "# Show the first 10 rows\n",
        "data_sub.show(10)"
      ]
    },
    {
      "cell_type": "code",
      "execution_count": 23,
      "metadata": {
        "id": "2u8hIaCELASr",
        "colab": {
          "base_uri": "https://localhost:8080/"
        },
        "outputId": "b0a7da3f-6241-4b20-d883-a7f7423f9a4b"
      },
      "outputs": [
        {
          "output_type": "stream",
          "name": "stdout",
          "text": [
            "+----------------+------------------+\n",
            "|experience_level|       mean_salary|\n",
            "+----------------+------------------+\n",
            "|              EX|198811.38068181818|\n",
            "|              MI|109533.25531914894|\n",
            "|              EN| 76135.68238993711|\n",
            "|              SE|154414.63621262458|\n",
            "+----------------+------------------+\n",
            "\n"
          ]
        }
      ],
      "source": [
        "# Select specific columns\n",
        "data_sub = data.select(\"work_year\", \"salary_in_usd\", \"experience_level\")\n",
        "\n",
        "# Group by 'experience_level' and calculate the mean of 'salary_in_usd'\n",
        "salary_exp = data_sub.groupBy(\"experience_level\").agg(avg(\"salary_in_usd\").alias(\"mean_salary\"))\n",
        "\n",
        "# Show the first 10 rows\n",
        "salary_exp.show(10)"
      ]
    },
    {
      "cell_type": "code",
      "execution_count": 24,
      "metadata": {
        "id": "GDlWqRMsL8CR",
        "colab": {
          "base_uri": "https://localhost:8080/",
          "height": 807
        },
        "outputId": "e03d6117-813e-454a-d5dc-d547c8b11a68"
      },
      "outputs": [
        {
          "output_type": "display_data",
          "data": {
            "text/plain": [
              "<Figure size 1200x800 with 1 Axes>"
            ],
            "image/png": "[encoded data removed]"
          },
          "metadata": {}
        }
      ],
      "source": [
        "import matplotlib.pyplot as plt\n",
        "import pandas as pd\n",
        "import seaborn as sns\n",
        "\n",
        "#Select specific columns\n",
        "data_sub = data.select(\"work_year\", \"salary_in_usd\", \"experience_level\")\n",
        "\n",
        "# Group by 'experience_level' and calculate the mean of 'salary_in_usd'\n",
        "salary_exp = data_sub.groupBy(\"experience_level\").agg(avg(\"salary_in_usd\").alias(\"mean_salary\"))\n",
        "\n",
        "# Convert the Spark DataFrame to a Pandas DataFrame for local plotting\n",
        "salary_exp_pd = salary_exp.toPandas()\n",
        "\n",
        "# Plotting with matplotlib\n",
        "plt.figure(figsize=(12, 8))\n",
        "#plt.bar(salary_exp_pd['experience_level'], salary_exp_pd['mean_salary'], color='green')\n",
        "sns.barplot(x = salary_exp_pd['experience_level'], y = salary_exp_pd['mean_salary'], palette = 'plasma')\n",
        "\n",
        "plt.title('Work experience & Salary in $ (mean)', fontweight='bold')\n",
        "plt.xlabel('Experience Level', fontweight='bold')\n",
        "plt.ylabel('Salary', fontweight='bold')\n",
        "\n",
        "plt.grid(True, axis='y', color='grey', alpha=0.3)\n",
        "\n",
        "plt.tight_layout()\n",
        "plt.show()\n"
      ]
    },
    {
      "cell_type": "code",
      "execution_count": 25,
      "metadata": {
        "id": "NDsPq2P1PkVl",
        "colab": {
          "base_uri": "https://localhost:8080/"
        },
        "outputId": "ed08678c-7a63-4ad5-af7b-6547d04cc140"
      },
      "outputs": [
        {
          "output_type": "stream",
          "name": "stdout",
          "text": [
            "+----------------+------------------+\n",
            "|experience_level|       mean_salary|\n",
            "+----------------+------------------+\n",
            "|              EX|198811.38068181818|\n",
            "|              MI|109533.25531914894|\n",
            "|              EN| 76135.68238993711|\n",
            "|              SE|154414.63621262458|\n",
            "+----------------+------------------+\n",
            "\n"
          ]
        }
      ],
      "source": [
        "salary_exp.show()\n"
      ]
    },
    {
      "cell_type": "code",
      "execution_count": 26,
      "metadata": {
        "id": "P-hvFlETQrZg",
        "colab": {
          "base_uri": "https://localhost:8080/"
        },
        "outputId": "ac45ad75-fc35-4b75-d793-0b6e02bcc7de"
      },
      "outputs": [
        {
          "output_type": "stream",
          "name": "stdout",
          "text": [
            "+----------------+------------------+------------------------+\n",
            "|experience_level|       mean_salary|experience_level_encoded|\n",
            "+----------------+------------------+------------------------+\n",
            "|              EX|198811.38068181818|                     1.0|\n",
            "|              MI|109533.25531914894|                     2.0|\n",
            "|              EN| 76135.68238993711|                     0.0|\n",
            "|              SE|154414.63621262458|                     3.0|\n",
            "+----------------+------------------+------------------------+\n",
            "\n"
          ]
        }
      ],
      "source": [
        "from pyspark.ml.feature import StringIndexer\n",
        "\n",
        "# Assuming 'experience_level' is a string column in 'salary_exp'\n",
        "string_indexer = StringIndexer(inputCol=\"experience_level\", outputCol=\"experience_level_encoded\")\n",
        "\n",
        "# Fit and transform the DataFrame\n",
        "salary_exp_encoded = string_indexer.fit(salary_exp).transform(salary_exp)\n",
        "\n",
        "# Show the DataFrame with the encoded column\n",
        "salary_exp_encoded.show()"
      ]
    },
    {
      "cell_type": "code",
      "execution_count": 27,
      "metadata": {
        "id": "BQmQoMK_Q9R4",
        "colab": {
          "base_uri": "https://localhost:8080/",
          "height": 807
        },
        "outputId": "041bf8ac-e5af-489f-ef39-d84c8d9ef402"
      },
      "outputs": [
        {
          "output_type": "display_data",
          "data": {
            "text/plain": [
              "<Figure size 1200x800 with 2 Axes>"
            ],
            "image/png": "[encoded data removed]"
          },
          "metadata": {}
        }
      ],
      "source": [
        "salary_exp_encoded_pd = salary_exp_encoded.toPandas()\n",
        "\n",
        "plt.figure(figsize = (12,8))\n",
        "sns.heatmap(salary_exp_encoded_pd.corr(numeric_only = True), annot = True, cmap = 'crest')\n",
        "\n",
        "plt.tight_layout()\n",
        "plt.show()"
      ]
    },
    {
      "cell_type": "markdown",
      "metadata": {
        "id": "9dB9MpA7S82K"
      },
      "source": [
        "Overall correlation\n"
      ]
    },
    {
      "cell_type": "code",
      "execution_count": 28,
      "metadata": {
        "id": "90BT9FFiS-vg",
        "colab": {
          "base_uri": "https://localhost:8080/"
        },
        "outputId": "2f42d762-33cd-4853-c21c-b1cb7adeb149"
      },
      "outputs": [
        {
          "output_type": "stream",
          "name": "stdout",
          "text": [
            "+---------+----------------+---------------+--------------------+------+---------------+-------------+------------------+------------+----------------+------------+\n",
            "|work_year|experience_level|employment_type|           job_title|salary|salary_currency|salary_in_usd|employee_residence|remote_ratio|company_location|company_size|\n",
            "+---------+----------------+---------------+--------------------+------+---------------+-------------+------------------+------------+----------------+------------+\n",
            "|     2023|              EX|             FT|   Security Engineer|340000|            USD|       340000|                US|           0|              US|           M|\n",
            "|     2023|              SE|             FT|  Penetration Tester|132000|            USD|       132000|                US|         100|              US|           S|\n",
            "|     2023|              SE|             FT|    Security Analyst|130000|            USD|       130000|                US|         100|              US|           M|\n",
            "|     2023|              SE|             FT|Cyber Security Sp...|240000|            PLN|        55878|                PL|         100|              PL|           L|\n",
            "|     2023|              MI|             FT|  Compliance Manager|247500|            USD|       247500|                US|           0|              US|           M|\n",
            "|     2023|              EX|             FT|   Security Engineer|250000|            USD|       250000|                US|           0|              US|           M|\n",
            "|     2023|              SE|             FT|  DevSecOps Engineer|150000|            USD|       150000|                US|         100|              US|           M|\n",
            "|     2023|              SE|             FT|   Security Engineer|169036|            USD|       169036|                GB|           0|              GB|           M|\n",
            "|     2022|              SE|             FT|    Security Analyst|250000|            USD|       250000|                US|         100|              US|           M|\n",
            "|     2022|              SE|             FT|   Security Engineer|210000|            USD|       210000|                US|         100|              US|           M|\n",
            "+---------+----------------+---------------+--------------------+------+---------------+-------------+------------------+------------+----------------+------------+\n",
            "only showing top 10 rows\n",
            "\n"
          ]
        }
      ],
      "source": [
        "data.show(10)"
      ]
    },
    {
      "cell_type": "code",
      "execution_count": 29,
      "metadata": {
        "id": "j14ZOdc73GRP",
        "colab": {
          "base_uri": "https://localhost:8080/"
        },
        "outputId": "37b884e3-fc77-4711-c867-a7d44d0b8273"
      },
      "outputs": [
        {
          "output_type": "stream",
          "name": "stdout",
          "text": [
            "+---------+----------------+---------------+--------------------+------+---------------+-------------+------------------+------------+----------------+------------+-----------------+------------------------+-----------------------+-----------------------+--------------------------+------------------------+--------------------+\n",
            "|work_year|experience_level|employment_type|           job_title|salary|salary_currency|salary_in_usd|employee_residence|remote_ratio|company_location|company_size|job_title_encoded|experience_level_encoded|employment_type_encoded|salary_currency_encoded|employee_residence_encoded|company_location_encoded|company_size_encoded|\n",
            "+---------+----------------+---------------+--------------------+------+---------------+-------------+------------------+------------+----------------+------------+-----------------+------------------------+-----------------------+-----------------------+--------------------------+------------------------+--------------------+\n",
            "|     2023|              EX|             FT|   Security Engineer|340000|            USD|       340000|                US|           0|              US|           M|              0.0|                     3.0|                    0.0|                    0.0|                       0.0|                     0.0|                 0.0|\n",
            "|     2023|              SE|             FT|  Penetration Tester|132000|            USD|       132000|                US|         100|              US|           S|              3.0|                     0.0|                    0.0|                    0.0|                       0.0|                     0.0|                 2.0|\n",
            "|     2023|              SE|             FT|    Security Analyst|130000|            USD|       130000|                US|         100|              US|           M|              1.0|                     0.0|                    0.0|                    0.0|                       0.0|                     0.0|                 0.0|\n",
            "|     2023|              SE|             FT|Cyber Security Sp...|240000|            PLN|        55878|                PL|         100|              PL|           L|             15.0|                     0.0|                    0.0|                   10.0|                      15.0|                    16.0|                 1.0|\n",
            "|     2023|              MI|             FT|  Compliance Manager|247500|            USD|       247500|                US|           0|              US|           M|             26.0|                     1.0|                    0.0|                    0.0|                       0.0|                     0.0|                 0.0|\n",
            "|     2023|              EX|             FT|   Security Engineer|250000|            USD|       250000|                US|           0|              US|           M|              0.0|                     3.0|                    0.0|                    0.0|                       0.0|                     0.0|                 0.0|\n",
            "|     2023|              SE|             FT|  DevSecOps Engineer|150000|            USD|       150000|                US|         100|              US|           M|              4.0|                     0.0|                    0.0|                    0.0|                       0.0|                     0.0|                 0.0|\n",
            "|     2023|              SE|             FT|   Security Engineer|169036|            USD|       169036|                GB|           0|              GB|           M|              0.0|                     0.0|                    0.0|                    0.0|                       1.0|                     1.0|                 0.0|\n",
            "|     2022|              SE|             FT|    Security Analyst|250000|            USD|       250000|                US|         100|              US|           M|              1.0|                     0.0|                    0.0|                    0.0|                       0.0|                     0.0|                 0.0|\n",
            "|     2022|              SE|             FT|   Security Engineer|210000|            USD|       210000|                US|         100|              US|           M|              0.0|                     0.0|                    0.0|                    0.0|                       0.0|                     0.0|                 0.0|\n",
            "|     2022|              SE|             FT| IT Security Manager|120000|            EUR|       126080|                DE|          50|              DE|           L|             27.0|                     0.0|                    0.0|                    1.0|                       3.0|                     3.0|                 1.0|\n",
            "|     2022|              SE|             FT|   Security Engineer|195000|            USD|       195000|                US|         100|              US|           M|              0.0|                     0.0|                    0.0|                    0.0|                       0.0|                     0.0|                 0.0|\n",
            "|     2022|              MI|             FT|Incident Response...| 87000|            USD|        87000|                US|          50|              US|           L|             17.0|                     1.0|                    0.0|                    0.0|                       0.0|                     0.0|                 1.0|\n",
            "|     2022|              EX|             FT|Chief Information...|300000|            BRL|        58061|                BR|         100|              BR|           L|             19.0|                     3.0|                    0.0|                    6.0|                      12.0|                    11.0|                 1.0|\n",
            "|     2022|              SE|             FT|Incident Response...|224000|            USD|       224000|                US|         100|              US|           L|             54.0|                     0.0|                    0.0|                    0.0|                       0.0|                     0.0|                 1.0|\n",
            "|     2021|              MI|             FT|Information Secur...| 53000|            USD|        53000|                US|           0|              US|           L|              7.0|                     1.0|                    0.0|                    0.0|                       0.0|                     0.0|                 1.0|\n",
            "|     2021|              MI|             FT|Cyber Security An...| 90000|            USD|        90000|                US|          50|              US|           L|              2.0|                     1.0|                    0.0|                    0.0|                       0.0|                     0.0|                 1.0|\n",
            "|     2021|              MI|             FT|   Security Engineer|100000|            EUR|       118205|                DE|          50|              DE|           L|              0.0|                     1.0|                    0.0|                    1.0|                       3.0|                     3.0|                 1.0|\n",
            "|     2021|              MI|             FT|Application Secur...| 50000|            EUR|        59102|                FR|         100|              FR|           L|             20.0|                     1.0|                    0.0|                    1.0|                       5.0|                     5.0|                 1.0|\n",
            "|     2020|              EN|             FT|Cyber Security En...| 35000|            GBP|        44892|                GB|         100|              GB|           L|              6.0|                     2.0|                    0.0|                    2.0|                       1.0|                     1.0|                 1.0|\n",
            "+---------+----------------+---------------+--------------------+------+---------------+-------------+------------------+------------+----------------+------------+-----------------+------------------------+-----------------------+-----------------------+--------------------------+------------------------+--------------------+\n",
            "only showing top 20 rows\n",
            "\n"
          ]
        }
      ],
      "source": [
        "from pyspark.sql import SparkSession\n",
        "from pyspark.ml.feature import StringIndexer\n",
        "\n",
        "df = data\n",
        "\n",
        "# List of categorical columns to be label encoded\n",
        "columns_to_encode = ['job_title', 'experience_level', 'employment_type', 'salary_currency',\n",
        "                      'employee_residence', 'company_location', 'company_size']\n",
        "\n",
        "# Initialize StringIndexer for each categorical column\n",
        "indexers = [StringIndexer(inputCol=column, outputCol=f\"{column}_encoded\", handleInvalid=\"keep\") for column in columns_to_encode]\n",
        "\n",
        "# Fit and transform the data with the StringIndexers\n",
        "df_enc = df\n",
        "for indexer in indexers:\n",
        "    df_enc = indexer.fit(df_enc).transform(df_enc)\n",
        "\n",
        "# Show the DataFrame with label-encoded columns\n",
        "df_enc.show()\n"
      ]
    },
    {
      "cell_type": "code",
      "execution_count": 30,
      "metadata": {
        "id": "rfmrSL0T4lgG",
        "colab": {
          "base_uri": "https://localhost:8080/"
        },
        "outputId": "7a4874bb-be3f-4024-cb2e-0718c4c4c1bd"
      },
      "outputs": [
        {
          "output_type": "stream",
          "name": "stdout",
          "text": [
            "+---------+------+-------------+------------+-----------------+------------------------+-----------------------+-----------------------+--------------------------+------------------------+--------------------+\n",
            "|work_year|salary|salary_in_usd|remote_ratio|job_title_encoded|experience_level_encoded|employment_type_encoded|salary_currency_encoded|employee_residence_encoded|company_location_encoded|company_size_encoded|\n",
            "+---------+------+-------------+------------+-----------------+------------------------+-----------------------+-----------------------+--------------------------+------------------------+--------------------+\n",
            "|     2023|340000|       340000|           0|              0.0|                     3.0|                    0.0|                    0.0|                       0.0|                     0.0|                 0.0|\n",
            "|     2023|132000|       132000|         100|              3.0|                     0.0|                    0.0|                    0.0|                       0.0|                     0.0|                 2.0|\n",
            "|     2023|130000|       130000|         100|              1.0|                     0.0|                    0.0|                    0.0|                       0.0|                     0.0|                 0.0|\n",
            "|     2023|240000|        55878|         100|             15.0|                     0.0|                    0.0|                   10.0|                      15.0|                    16.0|                 1.0|\n",
            "|     2023|247500|       247500|           0|             26.0|                     1.0|                    0.0|                    0.0|                       0.0|                     0.0|                 0.0|\n",
            "|     2023|250000|       250000|           0|              0.0|                     3.0|                    0.0|                    0.0|                       0.0|                     0.0|                 0.0|\n",
            "|     2023|150000|       150000|         100|              4.0|                     0.0|                    0.0|                    0.0|                       0.0|                     0.0|                 0.0|\n",
            "|     2023|169036|       169036|           0|              0.0|                     0.0|                    0.0|                    0.0|                       1.0|                     1.0|                 0.0|\n",
            "|     2022|250000|       250000|         100|              1.0|                     0.0|                    0.0|                    0.0|                       0.0|                     0.0|                 0.0|\n",
            "|     2022|210000|       210000|         100|              0.0|                     0.0|                    0.0|                    0.0|                       0.0|                     0.0|                 0.0|\n",
            "|     2022|120000|       126080|          50|             27.0|                     0.0|                    0.0|                    1.0|                       3.0|                     3.0|                 1.0|\n",
            "|     2022|195000|       195000|         100|              0.0|                     0.0|                    0.0|                    0.0|                       0.0|                     0.0|                 0.0|\n",
            "|     2022| 87000|        87000|          50|             17.0|                     1.0|                    0.0|                    0.0|                       0.0|                     0.0|                 1.0|\n",
            "|     2022|300000|        58061|         100|             19.0|                     3.0|                    0.0|                    6.0|                      12.0|                    11.0|                 1.0|\n",
            "|     2022|224000|       224000|         100|             54.0|                     0.0|                    0.0|                    0.0|                       0.0|                     0.0|                 1.0|\n",
            "|     2021| 53000|        53000|           0|              7.0|                     1.0|                    0.0|                    0.0|                       0.0|                     0.0|                 1.0|\n",
            "|     2021| 90000|        90000|          50|              2.0|                     1.0|                    0.0|                    0.0|                       0.0|                     0.0|                 1.0|\n",
            "|     2021|100000|       118205|          50|              0.0|                     1.0|                    0.0|                    1.0|                       3.0|                     3.0|                 1.0|\n",
            "|     2021| 50000|        59102|         100|             20.0|                     1.0|                    0.0|                    1.0|                       5.0|                     5.0|                 1.0|\n",
            "|     2020| 35000|        44892|         100|              6.0|                     2.0|                    0.0|                    2.0|                       1.0|                     1.0|                 1.0|\n",
            "+---------+------+-------------+------------+-----------------+------------------------+-----------------------+-----------------------+--------------------------+------------------------+--------------------+\n",
            "only showing top 20 rows\n",
            "\n"
          ]
        }
      ],
      "source": [
        "# Columns to drop\n",
        "columns_to_drop = ['job_title', 'experience_level', 'employment_type', 'salary_currency',\n",
        "                   'employee_residence', 'company_location', 'company_size']\n",
        "\n",
        "# Drop specified columns\n",
        "df = df_enc.drop(*columns_to_drop)\n",
        "\n",
        "# Show the DataFrame after dropping columns\n",
        "df.show()"
      ]
    },
    {
      "cell_type": "code",
      "execution_count": 31,
      "metadata": {
        "id": "papvTRE4O2UQ"
      },
      "outputs": [],
      "source": [
        "data = df.toPandas()\n",
        "correlation = data.corr()"
      ]
    },
    {
      "cell_type": "code",
      "execution_count": 32,
      "metadata": {
        "id": "guSvqaZWPElw",
        "colab": {
          "base_uri": "https://localhost:8080/",
          "height": 807
        },
        "outputId": "715c2995-30de-4efc-bf54-f734e15c4629"
      },
      "outputs": [
        {
          "output_type": "display_data",
          "data": {
            "text/plain": [
              "<Figure size 1200x800 with 2 Axes>"
            ],
            "image/png": "[encoded data removed]"
          },
          "metadata": {}
        }
      ],
      "source": [
        "plt.figure(figsize = (12,8))\n",
        "sns.heatmap(correlation, annot = True, cmap = 'crest')\n",
        "\n",
        "plt.tight_layout()\n",
        "plt.show()"
      ]
    },
    {
      "cell_type": "code",
      "execution_count": 33,
      "metadata": {
        "id": "Fl1KOrxePLMU",
        "colab": {
          "base_uri": "https://localhost:8080/",
          "height": 414
        },
        "outputId": "a8ce535d-7b33-48cf-f1dc-4da9808c88d8"
      },
      "outputs": [
        {
          "output_type": "execute_result",
          "data": {
            "text/plain": [
              "                            work_year    salary  salary_in_usd  remote_ratio  \\\n",
              "work_year                    1.000000 -0.004470       0.265313     -0.250503   \n",
              "salary                      -0.004470  1.000000      -0.025011      0.016488   \n",
              "salary_in_usd                0.265313 -0.025011       1.000000     -0.050274   \n",
              "remote_ratio                -0.250503  0.016488      -0.050274      1.000000   \n",
              "job_title_encoded           -0.119739  0.030937      -0.047629      0.035068   \n",
              "experience_level_encoded    -0.182637 -0.013512      -0.161564      0.009885   \n",
              "employment_type_encoded     -0.066978 -0.002244      -0.066589      0.041132   \n",
              "salary_currency_encoded     -0.189679  0.212039      -0.266112      0.065917   \n",
              "employee_residence_encoded  -0.183296  0.125763      -0.258120      0.030628   \n",
              "company_location_encoded    -0.187343  0.131506      -0.262089      0.021994   \n",
              "company_size_encoded        -0.541909  0.018763      -0.253069      0.198905   \n",
              "\n",
              "                            job_title_encoded  experience_level_encoded  \\\n",
              "work_year                           -0.119739                 -0.182637   \n",
              "salary                               0.030937                 -0.013512   \n",
              "salary_in_usd                       -0.047629                 -0.161564   \n",
              "remote_ratio                         0.035068                  0.009885   \n",
              "job_title_encoded                    1.000000                  0.052918   \n",
              "experience_level_encoded             0.052918                  1.000000   \n",
              "employment_type_encoded              0.026152                  0.038424   \n",
              "salary_currency_encoded              0.082023                  0.084080   \n",
              "employee_residence_encoded           0.124805                  0.105308   \n",
              "company_location_encoded             0.122057                  0.091617   \n",
              "company_size_encoded                 0.189535                  0.218483   \n",
              "\n",
              "                            employment_type_encoded  salary_currency_encoded  \\\n",
              "work_year                                 -0.066978                -0.189679   \n",
              "salary                                    -0.002244                 0.212039   \n",
              "salary_in_usd                             -0.066589                -0.266112   \n",
              "remote_ratio                               0.041132                 0.065917   \n",
              "job_title_encoded                          0.026152                 0.082023   \n",
              "experience_level_encoded                   0.038424                 0.084080   \n",
              "employment_type_encoded                    1.000000                 0.041233   \n",
              "salary_currency_encoded                    0.041233                 1.000000   \n",
              "employee_residence_encoded                 0.094052                 0.469230   \n",
              "company_location_encoded                   0.091159                 0.460891   \n",
              "company_size_encoded                       0.115859                 0.196199   \n",
              "\n",
              "                            employee_residence_encoded  \\\n",
              "work_year                                    -0.183296   \n",
              "salary                                        0.125763   \n",
              "salary_in_usd                                -0.258120   \n",
              "remote_ratio                                  0.030628   \n",
              "job_title_encoded                             0.124805   \n",
              "experience_level_encoded                      0.105308   \n",
              "employment_type_encoded                       0.094052   \n",
              "salary_currency_encoded                       0.469230   \n",
              "employee_residence_encoded                    1.000000   \n",
              "company_location_encoded                      0.845871   \n",
              "company_size_encoded                          0.212938   \n",
              "\n",
              "                            company_location_encoded  company_size_encoded  \n",
              "work_year                                  -0.187343             -0.541909  \n",
              "salary                                      0.131506              0.018763  \n",
              "salary_in_usd                              -0.262089             -0.253069  \n",
              "remote_ratio                                0.021994              0.198905  \n",
              "job_title_encoded                           0.122057              0.189535  \n",
              "experience_level_encoded                    0.091617              0.218483  \n",
              "employment_type_encoded                     0.091159              0.115859  \n",
              "salary_currency_encoded                     0.460891              0.196199  \n",
              "employee_residence_encoded                  0.845871              0.212938  \n",
              "company_location_encoded                    1.000000              0.216486  \n",
              "company_size_encoded                        0.216486              1.000000  "
            ],
            "text/html": [
              "\n",
              "  <div id=\"df-cf3654ad-b6a6-4a28-aaef-6a8f48e11c24\" class=\"colab-df-container\">\n",
              "    <div>\n",
              "<style scoped>\n",
              "    .dataframe tbody tr th:only-of-type {\n",
              "        vertical-align: middle;\n",
              "    }\n",
              "\n",
              "    .dataframe tbody tr th {\n",
              "        vertical-align: top;\n",
              "    }\n",
              "\n",
              "    .dataframe thead th {\n",
              "        text-align: right;\n",
              "    }\n",
              "</style>\n",
              "<table border=\"1\" class=\"dataframe\">\n",
              "  <thead>\n",
              "    <tr style=\"text-align: right;\">\n",
              "      <th></th>\n",
              "      <th>work_year</th>\n",
              "      <th>salary</th>\n",
              "      <th>salary_in_usd</th>\n",
              "      <th>remote_ratio</th>\n",
              "      <th>job_title_encoded</th>\n",
              "      <th>experience_level_encoded</th>\n",
              "      <th>employment_type_encoded</th>\n",
              "      <th>salary_currency_encoded</th>\n",
              "      <th>employee_residence_encoded</th>\n",
              "      <th>company_location_encoded</th>\n",
              "      <th>company_size_encoded</th>\n",
              "    </tr>\n",
              "  </thead>\n",
              "  <tbody>\n",
              "    <tr>\n",
              "      <th>work_year</th>\n",
              "      <td>1.000000</td>\n",
              "      <td>-0.004470</td>\n",
              "      <td>0.265313</td>\n",
              "      <td>-0.250503</td>\n",
              "      <td>-0.119739</td>\n",
              "      <td>-0.182637</td>\n",
              "      <td>-0.066978</td>\n",
              "      <td>-0.189679</td>\n",
              "      <td>-0.183296</td>\n",
              "      <td>-0.187343</td>\n",
              "      <td>-0.541909</td>\n",
              "    </tr>\n",
              "    <tr>\n",
              "      <th>salary</th>\n",
              "      <td>-0.004470</td>\n",
              "      <td>1.000000</td>\n",
              "      <td>-0.025011</td>\n",
              "      <td>0.016488</td>\n",
              "      <td>0.030937</td>\n",
              "      <td>-0.013512</td>\n",
              "      <td>-0.002244</td>\n",
              "      <td>0.212039</td>\n",
              "      <td>0.125763</td>\n",
              "      <td>0.131506</td>\n",
              "      <td>0.018763</td>\n",
              "    </tr>\n",
              "    <tr>\n",
              "      <th>salary_in_usd</th>\n",
              "      <td>0.265313</td>\n",
              "      <td>-0.025011</td>\n",
              "      <td>1.000000</td>\n",
              "      <td>-0.050274</td>\n",
              "      <td>-0.047629</td>\n",
              "      <td>-0.161564</td>\n",
              "      <td>-0.066589</td>\n",
              "      <td>-0.266112</td>\n",
              "      <td>-0.258120</td>\n",
              "      <td>-0.262089</td>\n",
              "      <td>-0.253069</td>\n",
              "    </tr>\n",
              "    <tr>\n",
              "      <th>remote_ratio</th>\n",
              "      <td>-0.250503</td>\n",
              "      <td>0.016488</td>\n",
              "      <td>-0.050274</td>\n",
              "      <td>1.000000</td>\n",
              "      <td>0.035068</td>\n",
              "      <td>0.009885</td>\n",
              "      <td>0.041132</td>\n",
              "      <td>0.065917</td>\n",
              "      <td>0.030628</td>\n",
              "      <td>0.021994</td>\n",
              "      <td>0.198905</td>\n",
              "    </tr>\n",
              "    <tr>\n",
              "      <th>job_title_encoded</th>\n",
              "      <td>-0.119739</td>\n",
              "      <td>0.030937</td>\n",
              "      <td>-0.047629</td>\n",
              "      <td>0.035068</td>\n",
              "      <td>1.000000</td>\n",
              "      <td>0.052918</td>\n",
              "      <td>0.026152</td>\n",
              "      <td>0.082023</td>\n",
              "      <td>0.124805</td>\n",
              "      <td>0.122057</td>\n",
              "      <td>0.189535</td>\n",
              "    </tr>\n",
              "    <tr>\n",
              "      <th>experience_level_encoded</th>\n",
              "      <td>-0.182637</td>\n",
              "      <td>-0.013512</td>\n",
              "      <td>-0.161564</td>\n",
              "      <td>0.009885</td>\n",
              "      <td>0.052918</td>\n",
              "      <td>1.000000</td>\n",
              "      <td>0.038424</td>\n",
              "      <td>0.084080</td>\n",
              "      <td>0.105308</td>\n",
              "      <td>0.091617</td>\n",
              "      <td>0.218483</td>\n",
              "    </tr>\n",
              "    <tr>\n",
              "      <th>employment_type_encoded</th>\n",
              "      <td>-0.066978</td>\n",
              "      <td>-0.002244</td>\n",
              "      <td>-0.066589</td>\n",
              "      <td>0.041132</td>\n",
              "      <td>0.026152</td>\n",
              "      <td>0.038424</td>\n",
              "      <td>1.000000</td>\n",
              "      <td>0.041233</td>\n",
              "      <td>0.094052</td>\n",
              "      <td>0.091159</td>\n",
              "      <td>0.115859</td>\n",
              "    </tr>\n",
              "    <tr>\n",
              "      <th>salary_currency_encoded</th>\n",
              "      <td>-0.189679</td>\n",
              "      <td>0.212039</td>\n",
              "      <td>-0.266112</td>\n",
              "      <td>0.065917</td>\n",
              "      <td>0.082023</td>\n",
              "      <td>0.084080</td>\n",
              "      <td>0.041233</td>\n",
              "      <td>1.000000</td>\n",
              "      <td>0.469230</td>\n",
              "      <td>0.460891</td>\n",
              "      <td>0.196199</td>\n",
              "    </tr>\n",
              "    <tr>\n",
              "      <th>employee_residence_encoded</th>\n",
              "      <td>-0.183296</td>\n",
              "      <td>0.125763</td>\n",
              "      <td>-0.258120</td>\n",
              "      <td>0.030628</td>\n",
              "      <td>0.124805</td>\n",
              "      <td>0.105308</td>\n",
              "      <td>0.094052</td>\n",
              "      <td>0.469230</td>\n",
              "      <td>1.000000</td>\n",
              "      <td>0.845871</td>\n",
              "      <td>0.212938</td>\n",
              "    </tr>\n",
              "    <tr>\n",
              "      <th>company_location_encoded</th>\n",
              "      <td>-0.187343</td>\n",
              "      <td>0.131506</td>\n",
              "      <td>-0.262089</td>\n",
              "      <td>0.021994</td>\n",
              "      <td>0.122057</td>\n",
              "      <td>0.091617</td>\n",
              "      <td>0.091159</td>\n",
              "      <td>0.460891</td>\n",
              "      <td>0.845871</td>\n",
              "      <td>1.000000</td>\n",
              "      <td>0.216486</td>\n",
              "    </tr>\n",
              "    <tr>\n",
              "      <th>company_size_encoded</th>\n",
              "      <td>-0.541909</td>\n",
              "      <td>0.018763</td>\n",
              "      <td>-0.253069</td>\n",
              "      <td>0.198905</td>\n",
              "      <td>0.189535</td>\n",
              "      <td>0.218483</td>\n",
              "      <td>0.115859</td>\n",
              "      <td>0.196199</td>\n",
              "      <td>0.212938</td>\n",
              "      <td>0.216486</td>\n",
              "      <td>1.000000</td>\n",
              "    </tr>\n",
              "  </tbody>\n",
              "</table>\n",
              "</div>\n",
              "    <div class=\"colab-df-buttons\">\n",
              "\n",
              "  <div class=\"colab-df-container\">\n",
              "    <button class=\"colab-df-convert\" onclick=\"convertToInteractive('df-cf3654ad-b6a6-4a28-aaef-6a8f48e11c24')\"\n",
              "            title=\"Convert this dataframe to an interactive table.\"\n",
              "            style=\"display:none;\">\n",
              "\n",
              "  <svg xmlns=\"http://www.w3.org/2000/svg\" height=\"24px\" viewBox=\"0 -960 960 960\">\n",
              "    <path d=\"M120-120v-720h720v720H120Zm60-500h600v-160H180v160Zm220 220h160v-160H400v160Zm0 220h160v-160H400v160ZM180-400h160v-160H180v160Zm440 0h160v-160H620v160ZM180-180h160v-160H180v160Zm440 0h160v-160H620v160Z\"/>\n",
              "  </svg>\n",
              "    </button>\n",
              "\n",
              "  <style>\n",
              "    .colab-df-container {\n",
              "      display:flex;\n",
              "      gap: 12px;\n",
              "    }\n",
              "\n",
              "    .colab-df-convert {\n",
              "      background-color: #E8F0FE;\n",
              "      border: none;\n",
              "      border-radius: 50%;\n",
              "      cursor: pointer;\n",
              "      display: none;\n",
              "      fill: #1967D2;\n",
              "      height: 32px;\n",
              "      padding: 0 0 0 0;\n",
              "      width: 32px;\n",
              "    }\n",
              "\n",
              "    .colab-df-convert:hover {\n",
              "      background-color: #E2EBFA;\n",
              "      box-shadow: 0px 1px 2px rgba(60, 64, 67, 0.3), 0px 1px 3px 1px rgba(60, 64, 67, 0.15);\n",
              "      fill: #174EA6;\n",
              "    }\n",
              "\n",
              "    .colab-df-buttons div {\n",
              "      margin-bottom: 4px;\n",
              "    }\n",
              "\n",
              "    [theme=dark] .colab-df-convert {\n",
              "      background-color: #3B4455;\n",
              "      fill: #D2E3FC;\n",
              "    }\n",
              "\n",
              "    [theme=dark] .colab-df-convert:hover {\n",
              "      background-color: #434B5C;\n",
              "      box-shadow: 0px 1px 3px 1px rgba(0, 0, 0, 0.15);\n",
              "      filter: drop-shadow(0px 1px 2px rgba(0, 0, 0, 0.3));\n",
              "      fill: #FFFFFF;\n",
              "    }\n",
              "  </style>\n",
              "\n",
              "    <script>\n",
              "      const buttonEl =\n",
              "        document.querySelector('#df-cf3654ad-b6a6-4a28-aaef-6a8f48e11c24 button.colab-df-convert');\n",
              "      buttonEl.style.display =\n",
              "        google.colab.kernel.accessAllowed ? 'block' : 'none';\n",
              "\n",
              "      async function convertToInteractive(key) {\n",
              "        const element = document.querySelector('#df-cf3654ad-b6a6-4a28-aaef-6a8f48e11c24');\n",
              "        const dataTable =\n",
              "          await google.colab.kernel.invokeFunction('convertToInteractive',\n",
              "                                                    [key], {});\n",
              "        if (!dataTable) return;\n",
              "\n",
              "        const docLinkHtml = 'Like what you see? Visit the ' +\n",
              "          '<a target=\"_blank\" href=https://colab.research.google.com/notebooks/data_table.ipynb>data table notebook</a>'\n",
              "          + ' to learn more about interactive tables.';\n",
              "        element.innerHTML = '';\n",
              "        dataTable['output_type'] = 'display_data';\n",
              "        await google.colab.output.renderOutput(dataTable, element);\n",
              "        const docLink = document.createElement('div');\n",
              "        docLink.innerHTML = docLinkHtml;\n",
              "        element.appendChild(docLink);\n",
              "      }\n",
              "    </script>\n",
              "  </div>\n",
              "\n",
              "\n",
              "<div id=\"df-f507bc9c-5e30-4b0b-8681-be091a99ad90\">\n",
              "  <button class=\"colab-df-quickchart\" onclick=\"quickchart('df-f507bc9c-5e30-4b0b-8681-be091a99ad90')\"\n",
              "            title=\"Suggest charts\"\n",
              "            style=\"display:none;\">\n",
              "\n",
              "<svg xmlns=\"http://www.w3.org/2000/svg\" height=\"24px\"viewBox=\"0 0 24 24\"\n",
              "     width=\"24px\">\n",
              "    <g>\n",
              "        <path d=\"M19 3H5c-1.1 0-2 .9-2 2v14c0 1.1.9 2 2 2h14c1.1 0 2-.9 2-2V5c0-1.1-.9-2-2-2zM9 17H7v-7h2v7zm4 0h-2V7h2v10zm4 0h-2v-4h2v4z\"/>\n",
              "    </g>\n",
              "</svg>\n",
              "  </button>\n",
              "\n",
              "<style>\n",
              "  .colab-df-quickchart {\n",
              "      --bg-color: #E8F0FE;\n",
              "      --fill-color: #1967D2;\n",
              "      --hover-bg-color: #E2EBFA;\n",
              "      --hover-fill-color: #174EA6;\n",
              "      --disabled-fill-color: #AAA;\n",
              "      --disabled-bg-color: #DDD;\n",
              "  }\n",
              "\n",
              "  [theme=dark] .colab-df-quickchart {\n",
              "      --bg-color: #3B4455;\n",
              "      --fill-color: #D2E3FC;\n",
              "      --hover-bg-color: #434B5C;\n",
              "      --hover-fill-color: #FFFFFF;\n",
              "      --disabled-bg-color: #3B4455;\n",
              "      --disabled-fill-color: #666;\n",
              "  }\n",
              "\n",
              "  .colab-df-quickchart {\n",
              "    background-color: var(--bg-color);\n",
              "    border: none;\n",
              "    border-radius: 50%;\n",
              "    cursor: pointer;\n",
              "    display: none;\n",
              "    fill: var(--fill-color);\n",
              "    height: 32px;\n",
              "    padding: 0;\n",
              "    width: 32px;\n",
              "  }\n",
              "\n",
              "  .colab-df-quickchart:hover {\n",
              "    background-color: var(--hover-bg-color);\n",
              "    box-shadow: 0 1px 2px rgba(60, 64, 67, 0.3), 0 1px 3px 1px rgba(60, 64, 67, 0.15);\n",
              "    fill: var(--button-hover-fill-color);\n",
              "  }\n",
              "\n",
              "  .colab-df-quickchart-complete:disabled,\n",
              "  .colab-df-quickchart-complete:disabled:hover {\n",
              "    background-color: var(--disabled-bg-color);\n",
              "    fill: var(--disabled-fill-color);\n",
              "    box-shadow: none;\n",
              "  }\n",
              "\n",
              "  .colab-df-spinner {\n",
              "    border: 2px solid var(--fill-color);\n",
              "    border-color: transparent;\n",
              "    border-bottom-color: var(--fill-color);\n",
              "    animation:\n",
              "      spin 1s steps(1) infinite;\n",
              "  }\n",
              "\n",
              "  @keyframes spin {\n",
              "    0% {\n",
              "      border-color: transparent;\n",
              "      border-bottom-color: var(--fill-color);\n",
              "      border-left-color: var(--fill-color);\n",
              "    }\n",
              "    20% {\n",
              "      border-color: transparent;\n",
              "      border-left-color: var(--fill-color);\n",
              "      border-top-color: var(--fill-color);\n",
              "    }\n",
              "    30% {\n",
              "      border-color: transparent;\n",
              "      border-left-color: var(--fill-color);\n",
              "      border-top-color: var(--fill-color);\n",
              "      border-right-color: var(--fill-color);\n",
              "    }\n",
              "    40% {\n",
              "      border-color: transparent;\n",
              "      border-right-color: var(--fill-color);\n",
              "      border-top-color: var(--fill-color);\n",
              "    }\n",
              "    60% {\n",
              "      border-color: transparent;\n",
              "      border-right-color: var(--fill-color);\n",
              "    }\n",
              "    80% {\n",
              "      border-color: transparent;\n",
              "      border-right-color: var(--fill-color);\n",
              "      border-bottom-color: var(--fill-color);\n",
              "    }\n",
              "    90% {\n",
              "      border-color: transparent;\n",
              "      border-bottom-color: var(--fill-color);\n",
              "    }\n",
              "  }\n",
              "</style>\n",
              "\n",
              "  <script>\n",
              "    async function quickchart(key) {\n",
              "      const quickchartButtonEl =\n",
              "        document.querySelector('#' + key + ' button');\n",
              "      quickchartButtonEl.disabled = true;  // To prevent multiple clicks.\n",
              "      quickchartButtonEl.classList.add('colab-df-spinner');\n",
              "      try {\n",
              "        const charts = await google.colab.kernel.invokeFunction(\n",
              "            'suggestCharts', [key], {});\n",
              "      } catch (error) {\n",
              "        console.error('Error during call to suggestCharts:', error);\n",
              "      }\n",
              "      quickchartButtonEl.classList.remove('colab-df-spinner');\n",
              "      quickchartButtonEl.classList.add('colab-df-quickchart-complete');\n",
              "    }\n",
              "    (() => {\n",
              "      let quickchartButtonEl =\n",
              "        document.querySelector('#df-f507bc9c-5e30-4b0b-8681-be091a99ad90 button');\n",
              "      quickchartButtonEl.style.display =\n",
              "        google.colab.kernel.accessAllowed ? 'block' : 'none';\n",
              "    })();\n",
              "  </script>\n",
              "</div>\n",
              "    </div>\n",
              "  </div>\n"
            ]
          },
          "metadata": {},
          "execution_count": 33
        }
      ],
      "source": [
        "correlation\n"
      ]
    },
    {
      "cell_type": "code",
      "source": [
        "df.show()\n"
      ],
      "metadata": {
        "colab": {
          "base_uri": "https://localhost:8080/"
        },
        "id": "XY4qh0s3ta9q",
        "outputId": "ae244b7a-371a-4add-dbef-cfc56caf0a4e"
      },
      "execution_count": 34,
      "outputs": [
        {
          "output_type": "stream",
          "name": "stdout",
          "text": [
            "+---------+------+-------------+------------+-----------------+------------------------+-----------------------+-----------------------+--------------------------+------------------------+--------------------+\n",
            "|work_year|salary|salary_in_usd|remote_ratio|job_title_encoded|experience_level_encoded|employment_type_encoded|salary_currency_encoded|employee_residence_encoded|company_location_encoded|company_size_encoded|\n",
            "+---------+------+-------------+------------+-----------------+------------------------+-----------------------+-----------------------+--------------------------+------------------------+--------------------+\n",
            "|     2023|340000|       340000|           0|              0.0|                     3.0|                    0.0|                    0.0|                       0.0|                     0.0|                 0.0|\n",
            "|     2023|132000|       132000|         100|              3.0|                     0.0|                    0.0|                    0.0|                       0.0|                     0.0|                 2.0|\n",
            "|     2023|130000|       130000|         100|              1.0|                     0.0|                    0.0|                    0.0|                       0.0|                     0.0|                 0.0|\n",
            "|     2023|240000|        55878|         100|             15.0|                     0.0|                    0.0|                   10.0|                      15.0|                    16.0|                 1.0|\n",
            "|     2023|247500|       247500|           0|             26.0|                     1.0|                    0.0|                    0.0|                       0.0|                     0.0|                 0.0|\n",
            "|     2023|250000|       250000|           0|              0.0|                     3.0|                    0.0|                    0.0|                       0.0|                     0.0|                 0.0|\n",
            "|     2023|150000|       150000|         100|              4.0|                     0.0|                    0.0|                    0.0|                       0.0|                     0.0|                 0.0|\n",
            "|     2023|169036|       169036|           0|              0.0|                     0.0|                    0.0|                    0.0|                       1.0|                     1.0|                 0.0|\n",
            "|     2022|250000|       250000|         100|              1.0|                     0.0|                    0.0|                    0.0|                       0.0|                     0.0|                 0.0|\n",
            "|     2022|210000|       210000|         100|              0.0|                     0.0|                    0.0|                    0.0|                       0.0|                     0.0|                 0.0|\n",
            "|     2022|120000|       126080|          50|             27.0|                     0.0|                    0.0|                    1.0|                       3.0|                     3.0|                 1.0|\n",
            "|     2022|195000|       195000|         100|              0.0|                     0.0|                    0.0|                    0.0|                       0.0|                     0.0|                 0.0|\n",
            "|     2022| 87000|        87000|          50|             17.0|                     1.0|                    0.0|                    0.0|                       0.0|                     0.0|                 1.0|\n",
            "|     2022|300000|        58061|         100|             19.0|                     3.0|                    0.0|                    6.0|                      12.0|                    11.0|                 1.0|\n",
            "|     2022|224000|       224000|         100|             54.0|                     0.0|                    0.0|                    0.0|                       0.0|                     0.0|                 1.0|\n",
            "|     2021| 53000|        53000|           0|              7.0|                     1.0|                    0.0|                    0.0|                       0.0|                     0.0|                 1.0|\n",
            "|     2021| 90000|        90000|          50|              2.0|                     1.0|                    0.0|                    0.0|                       0.0|                     0.0|                 1.0|\n",
            "|     2021|100000|       118205|          50|              0.0|                     1.0|                    0.0|                    1.0|                       3.0|                     3.0|                 1.0|\n",
            "|     2021| 50000|        59102|         100|             20.0|                     1.0|                    0.0|                    1.0|                       5.0|                     5.0|                 1.0|\n",
            "|     2020| 35000|        44892|         100|              6.0|                     2.0|                    0.0|                    2.0|                       1.0|                     1.0|                 1.0|\n",
            "+---------+------+-------------+------------+-----------------+------------------------+-----------------------+-----------------------+--------------------------+------------------------+--------------------+\n",
            "only showing top 20 rows\n",
            "\n"
          ]
        }
      ]
    },
    {
      "cell_type": "code",
      "execution_count": 35,
      "metadata": {
        "id": "vqNY7rPLAEZ1",
        "colab": {
          "base_uri": "https://localhost:8080/"
        },
        "outputId": "1bab5833-320f-4fe8-9640-e47c51285bc1"
      },
      "outputs": [
        {
          "output_type": "execute_result",
          "data": {
            "text/plain": [
              "['work_year',\n",
              " 'salary',\n",
              " 'salary_in_usd',\n",
              " 'remote_ratio',\n",
              " 'job_title_encoded',\n",
              " 'experience_level_encoded',\n",
              " 'employment_type_encoded',\n",
              " 'salary_currency_encoded',\n",
              " 'employee_residence_encoded',\n",
              " 'company_location_encoded',\n",
              " 'company_size_encoded']"
            ]
          },
          "metadata": {},
          "execution_count": 35
        }
      ],
      "source": [
        "colNames = df.columns\n",
        "colNames"
      ]
    },
    {
      "cell_type": "code",
      "source": [
        "df.printSchema()\n"
      ],
      "metadata": {
        "colab": {
          "base_uri": "https://localhost:8080/"
        },
        "id": "jcYW3En7uroQ",
        "outputId": "b4e14dfe-7dfa-44fe-aaae-e3ad3c80a60c"
      },
      "execution_count": 36,
      "outputs": [
        {
          "output_type": "stream",
          "name": "stdout",
          "text": [
            "root\n",
            " |-- work_year: integer (nullable = true)\n",
            " |-- salary: integer (nullable = true)\n",
            " |-- salary_in_usd: integer (nullable = true)\n",
            " |-- remote_ratio: integer (nullable = true)\n",
            " |-- job_title_encoded: double (nullable = false)\n",
            " |-- experience_level_encoded: double (nullable = false)\n",
            " |-- employment_type_encoded: double (nullable = false)\n",
            " |-- salary_currency_encoded: double (nullable = false)\n",
            " |-- employee_residence_encoded: double (nullable = false)\n",
            " |-- company_location_encoded: double (nullable = false)\n",
            " |-- company_size_encoded: double (nullable = false)\n",
            "\n"
          ]
        }
      ]
    },
    {
      "cell_type": "markdown",
      "source": [
        "Prediction Random Forest"
      ],
      "metadata": {
        "id": "R5526bS-5WM5"
      }
    },
    {
      "cell_type": "code",
      "source": [
        "from pyspark.sql import SparkSession\n",
        "from pyspark.ml.feature import VectorAssembler\n",
        "from pyspark.ml.regression import RandomForestRegressor\n",
        "\n",
        "\n",
        "features_columns = ['work_year', 'remote_ratio', 'job_title_encoded', 'experience_level_encoded',\n",
        "                    'employment_type_encoded', 'salary_currency_encoded', 'employee_residence_encoded',\n",
        "                    'company_location_encoded', 'company_size_encoded']\n",
        "\n",
        "# Create a VectorAssembler to assemble features into a single column\n",
        "assembler = VectorAssembler(\n",
        "    inputCols=['work_year', 'salary', 'salary_in_usd', 'remote_ratio', 'job_title_encoded', 'experience_level_encoded', 'employment_type_encoded',\n",
        "               'salary_currency_encoded', 'employee_residence_encoded', 'company_location_encoded', 'company_size_encoded'],\n",
        "    outputCol=\"features\")\n",
        "df_assembled = assembler.transform(df)\n",
        "\n",
        "# Select only the necessary columns\n",
        "df_selected = df_assembled.select(\"features\", \"salary_in_usd\")\n",
        "\n",
        "# Split the data into training and testing sets\n",
        "# Adjust the 'weights' parameter if you want to control the proportion of the split\n",
        "train_data, test_data = df_selected.randomSplit([0.8, 0.2], seed=42)\n",
        "\n",
        "# Random Forest Regressor\n",
        "# = RandomForestRegressor(featuresCol=\"features\", labelCol=\"salary_in_usd\", numTrees=10)\n",
        "rf = RandomForestRegressor(featuresCol=\"features\", labelCol=\"salary_in_usd\", numTrees=10, maxBins=150)\n",
        "\n",
        "rf_model = rf.fit(train_data)\n",
        "\n",
        "# Predictions on the test set\n",
        "rf_predictions = rf_model.transform(test_data)\n",
        "\n",
        "# Show the predictions\n",
        "rf_predictions.show()"
      ],
      "metadata": {
        "colab": {
          "base_uri": "https://localhost:8080/"
        },
        "id": "B5V3N2_W6__7",
        "outputId": "ddf5453e-af55-4963-dc33-a97f6fdd9105"
      },
      "execution_count": 37,
      "outputs": [
        {
          "output_type": "stream",
          "name": "stdout",
          "text": [
            "+--------------------+-------------+------------------+\n",
            "|            features|salary_in_usd|        prediction|\n",
            "+--------------------+-------------+------------------+\n",
            "|(11,[0,1,2,3,4],[...|       250000| 250627.7984598748|\n",
            "|(11,[0,1,2,3,4,10...|       132000|127706.25231175998|\n",
            "|(11,[0,1,2,4,5,10...|        53000| 66163.74699120087|\n",
            "|[2021.0,50000.0,5...|        59102| 60912.95338985928|\n",
            "|[2023.0,240000.0,...|        55878|  62595.2545015926|\n",
            "|(11,[0,1,2],[2023...|       115910| 113380.4738688732|\n",
            "|(11,[0,1,2,4,5],[...|       190000| 188873.2485522965|\n",
            "|(11,[0,1,2,4,8,9]...|       200000|199288.91062845942|\n",
            "|(11,[0,1,2],[2023...|       245000|250602.43814123297|\n",
            "|(11,[0,1,2,3,8,9]...|       146000|  151032.400864313|\n",
            "|(11,[0,1,2,4],[20...|       175000|175623.67329303882|\n",
            "|(11,[0,1,2,4,5],[...|        55000|  76402.1766457363|\n",
            "|(11,[0,1,2,4,5],[...|        55000| 63225.82610167294|\n",
            "|(11,[0,1,2,4,5],[...|       130000|121240.90915556779|\n",
            "|(11,[0,1,2,4],[20...|       150000|156846.00472774886|\n",
            "|(11,[0,1,2,3,4],[...|       150000|151620.57286908044|\n",
            "|(11,[0,1,2,3,5],[...|       148000|150284.22291045566|\n",
            "|(11,[0,1,2,3,10],...|       196000|196395.24549214222|\n",
            "|(11,[0,1,2,4],[20...|       185000|175424.31223369294|\n",
            "|(11,[0,1,2,10],[2...|       232800| 234711.7735928894|\n",
            "+--------------------+-------------+------------------+\n",
            "only showing top 20 rows\n",
            "\n"
          ]
        }
      ]
    },
    {
      "cell_type": "markdown",
      "source": [
        "Liner Regression"
      ],
      "metadata": {
        "id": "pG2Lwkt4QY08"
      }
    },
    {
      "cell_type": "code",
      "execution_count": 90,
      "metadata": {
        "id": "RpaazRDxXNH-"
      },
      "outputs": [],
      "source": [
        "from pyspark.ml.regression import LinearRegression\n",
        "lr = LinearRegression(featuresCol=\"features\", labelCol=\"salary_in_usd\", predictionCol=\"predicted_salary_in_usd\")\n",
        "lr_model = lr.fit(train_data)"
      ]
    },
    {
      "cell_type": "code",
      "source": [
        "from pyspark.ml.evaluation import RegressionEvaluator\n",
        "# Select the predicted values and the actual labels\n",
        "predictions = rf_predictions.select(\"prediction\", \"salary_in_usd\")\n",
        "\n",
        "# Evaluate the performance using a RegressionEvaluator\n",
        "evaluator = RegressionEvaluator(labelCol=\"salary_in_usd\", predictionCol=\"prediction\", metricName=\"rmse\")\n",
        "rmse = evaluator.evaluate(predictions)\n",
        "\n",
        "# Print the Root Mean Squared Error (RMSE) or other relevant metrics\n",
        "print(f\"Root Mean Squared Error (RMSE) on test data: {rmse}\")"
      ],
      "metadata": {
        "colab": {
          "base_uri": "https://localhost:8080/"
        },
        "id": "co2x-_D837AO",
        "outputId": "cb8a3da5-bfc9-42d1-cfec-16effc2e8df5"
      },
      "execution_count": 91,
      "outputs": [
        {
          "output_type": "stream",
          "name": "stdout",
          "text": [
            "Root Mean Squared Error (RMSE) on test data: 39498.62760948576\n"
          ]
        }
      ]
    },
    {
      "cell_type": "markdown",
      "metadata": {
        "id": "3qUWVYcFYUAj"
      },
      "source": [
        "# **Evaluate Performance**"
      ]
    },
    {
      "cell_type": "code",
      "execution_count": 92,
      "metadata": {
        "id": "D5ucoR4eX_Kc",
        "colab": {
          "base_uri": "https://localhost:8080/"
        },
        "outputId": "bb951494-27de-4be6-d5a4-0d58cbc529a7"
      },
      "outputs": [
        {
          "output_type": "stream",
          "name": "stdout",
          "text": [
            "Root Mean Squared Error (RMSE) on test data: 0.000\n",
            "MSE on test data: 0.000\n"
          ]
        }
      ],
      "source": [
        "predictions = lr_model.transform(test_data)\n",
        "\n",
        "evaluator = RegressionEvaluator(labelCol=\"salary_in_usd\", predictionCol=\"predicted_salary_in_usd\", metricName=\"rmse\")\n",
        "rmse = evaluator.evaluate(predictions)\n",
        "print(\"Root Mean Squared Error (RMSE) on test data: {:.3f}\".format(rmse))\n",
        "\n",
        "evaluator_mse = RegressionEvaluator(labelCol=\"salary_in_usd\", predictionCol=\"predicted_salary_in_usd\", metricName=\"mse\")\n",
        "mse = evaluator_mse.evaluate(predictions)\n",
        "print(\"MSE on test data: {:.3f}\".format(mse))"
      ]
    },
    {
      "cell_type": "markdown",
      "metadata": {
        "id": "5zsO6NyMYgAE"
      },
      "source": [
        "# **Inspect Model Co-efficient and Intercept**"
      ]
    },
    {
      "cell_type": "code",
      "execution_count": 93,
      "metadata": {
        "id": "A638QKFDYbQU",
        "colab": {
          "base_uri": "https://localhost:8080/"
        },
        "outputId": "6c317cd6-380a-48dd-bd7a-38987c27fc60"
      },
      "outputs": [
        {
          "output_type": "stream",
          "name": "stdout",
          "text": [
            "Coefficients:  [-3.0829015572434152e-12,-2.2488154359259578e-20,0.9999999999999999,-1.38382249046933e-14,3.089646018008551e-14,-1.6228755096894587e-12,-3.160532150962245e-12,1.5086925161387104e-13,4.6828173406605443e-14,1.9450283908473298e-14,-9.07544853506502e-12]\n",
            "Intercept: 0.000\n"
          ]
        }
      ],
      "source": [
        "coefficients = lr_model.coefficients\n",
        "intercept = lr_model.intercept\n",
        "\n",
        "print(\"Coefficients: \", coefficients)\n",
        "print(\"Intercept: {:.3f}\".format(intercept))"
      ]
    },
    {
      "cell_type": "markdown",
      "metadata": {
        "id": "Fl5Co0rcZvYC"
      },
      "source": [
        "# **Analyze Feature importance**"
      ]
    },
    {
      "cell_type": "code",
      "execution_count": 47,
      "metadata": {
        "id": "lCCrwCGEZ07g",
        "colab": {
          "base_uri": "https://localhost:8080/"
        },
        "outputId": "0c21152d-5144-4a38-e802-9134f8f86445"
      },
      "outputs": [
        {
          "output_type": "stream",
          "name": "stdout",
          "text": [
            "Feature Importance:\n",
            "  salary_in_usd: 1.000\n",
            "  employment_type_encoded: 0.000\n",
            "  work_year: 0.000\n",
            "  experience_level_encoded: 0.000\n",
            "  salary_currency_encoded: 0.000\n",
            "  employee_residence_encoded: 0.000\n",
            "  job_title_encoded: 0.000\n",
            "  company_location_encoded: 0.000\n",
            "  remote_ratio: 0.000\n",
            "  salary: 0.000\n"
          ]
        }
      ],
      "source": [
        "feature_importance = sorted(list(zip(data.columns[:-1], map(abs, coefficients))), key=lambda x: x[1], reverse=True)\n",
        "\n",
        "print(\"Feature Importance:\")\n",
        "for feature, importance in feature_importance:\n",
        "    print(\"  {}: {:.3f}\".format(feature, importance))"
      ]
    },
    {
      "cell_type": "markdown",
      "metadata": {
        "id": "KrBFKxFraDvg"
      },
      "source": [
        "# **Save and Load the Model**"
      ]
    },
    {
      "cell_type": "code",
      "execution_count": 48,
      "metadata": {
        "id": "EMni31X1jJG1"
      },
      "outputs": [],
      "source": [
        "\n",
        "rf_model.write().overwrite().save(\"rf_model\")\n",
        "\n",
        "\n",
        "\n"
      ]
    },
    {
      "cell_type": "code",
      "source": [
        "from pyspark.ml.regression import RandomForestRegressionModel\n",
        "loaded_model = RandomForestRegressionModel.load(\"rf_model\")"
      ],
      "metadata": {
        "id": "_T8l-8jJHbbZ"
      },
      "execution_count": 49,
      "outputs": []
    },
    {
      "cell_type": "code",
      "execution_count": 50,
      "metadata": {
        "id": "mympSxF1aLdO"
      },
      "outputs": [],
      "source": [
        "lr_model.write().overwrite().save(\"lr_model\")\n",
        "\n",
        "# Load the model\n",
        "from pyspark.ml.regression import LinearRegressionModel\n",
        "loaded_model = LinearRegressionModel.load(\"lr_model\")"
      ]
    },
    {
      "cell_type": "markdown",
      "source": [
        "Prediction"
      ],
      "metadata": {
        "id": "jHHnjpZH5zA4"
      }
    },
    {
      "cell_type": "code",
      "source": [
        "# Sample input data\n",
        "new_data = spark.createDataFrame([\n",
        "    (2023, 340000, 340000, 0.0, 3.0, 0.0, 0.0, 0.0, 0.0, 0.0, 0.0)\n",
        "], ['work_year', 'salary', 'salary_in_usd', 'remote_ratio', 'job_title_encoded', 'experience_level_encoded', 'employment_type_encoded',\n",
        "               'salary_currency_encoded', 'employee_residence_encoded', 'company_location_encoded', 'company_size_encoded'])\n",
        "\n",
        "# Transforming the input data\n",
        "new_data = assembler.transform(new_data)"
      ],
      "metadata": {
        "id": "QJRJ9rPS-Jhl"
      },
      "execution_count": 95,
      "outputs": []
    },
    {
      "cell_type": "code",
      "source": [
        "\n",
        "rf_predictions = rf_model.transform(new_data)\n",
        "rf_predictions.select(\"prediction\").show()"
      ],
      "metadata": {
        "colab": {
          "base_uri": "https://localhost:8080/"
        },
        "id": "gekkEIBz_7xg",
        "outputId": "b581d3b4-d911-45b2-d100-e1221299ba12"
      },
      "execution_count": 77,
      "outputs": [
        {
          "output_type": "stream",
          "name": "stdout",
          "text": [
            "+------------------+\n",
            "|        prediction|\n",
            "+------------------+\n",
            "|300501.37239051424|\n",
            "+------------------+\n",
            "\n"
          ]
        }
      ]
    },
    {
      "cell_type": "markdown",
      "source": [
        "Using User Input"
      ],
      "metadata": {
        "id": "UFsiUP6MDAt7"
      }
    },
    {
      "cell_type": "code",
      "source": [
        "# from pyspark.sql import SparkSession\n",
        "# from pyspark.ml.feature import VectorAssembler\n",
        "\n",
        "# Create a Spark session\n",
        "spark = SparkSession.builder.appName(\"example\").getOrCreate()\n",
        "\n",
        "# Define the feature columns\n",
        "feature_columns = [\"work_year\", \"salary\", \"salary_in_usd\", \"remote_ratio\", \"job_title_encoded\",\n",
        "                   \"experience_level_encoded\", \"employment_type_encoded\", \"salary_currency_encoded\",\n",
        "                   \"employee_residence_encoded\", \"company_location_encoded\", \"company_size_encoded\"]\n",
        "\n",
        "work_year = float(input(\"Enter value for Work Year: \"))\n",
        "salary_in_usd = float(input(\"Enter value for Salary in Usd: \"))\n",
        "\n",
        "# Create a DataFrame with the user input\n",
        "user_data = spark.createDataFrame([(work_year, salary_in_usd) + (0.0,) * (len(feature_columns) - 2)], feature_columns)\n",
        "salary = 340000\n",
        "# Transform the input data using the VectorAssembler\n",
        "user_data_transformed = assembler.transform(user_data)\n",
        "\n",
        "rf_predictions = rf_model.transform(new_data)\n",
        "rf_predictions.select(\"prediction\").show()\n"
      ],
      "metadata": {
        "colab": {
          "base_uri": "https://localhost:8080/"
        },
        "id": "iUPQnZp8Cb8y",
        "outputId": "42dc8a9b-3996-4c51-fa4d-89dfef3ef224"
      },
      "execution_count": 79,
      "outputs": [
        {
          "output_type": "stream",
          "name": "stdout",
          "text": [
            "Enter value for Work Year: 2023\n",
            "Enter value for Salary in Usd: 340000\n",
            "+------------------+\n",
            "|        prediction|\n",
            "+------------------+\n",
            "|300501.37239051424|\n",
            "+------------------+\n",
            "\n"
          ]
        }
      ]
    }
  ],
  "metadata": {
    "colab": {
      "provenance": []
    },
    "kernelspec": {
      "display_name": "Python 3",
      "name": "python3"
    },
    "language_info": {
      "name": "python"
    }
  },
  "nbformat": 4,
  "nbformat_minor": 0
}